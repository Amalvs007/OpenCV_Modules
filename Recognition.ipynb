{
 "cells": [
  {
   "cell_type": "code",
   "execution_count": 3,
   "metadata": {},
   "outputs": [],
   "source": [
    "import os\n",
    "import cv2 as cv \n",
    "import numpy as np\n",
    "import face_recognition"
   ]
  },
  {
   "cell_type": "code",
   "execution_count": 4,
   "metadata": {},
   "outputs": [],
   "source": [
    "path = 'data'"
   ]
  },
  {
   "cell_type": "code",
   "execution_count": 5,
   "metadata": {},
   "outputs": [],
   "source": [
    "images = []"
   ]
  },
  {
   "cell_type": "code",
   "execution_count": 6,
   "metadata": {},
   "outputs": [],
   "source": [
    "classNames = []"
   ]
  },
  {
   "cell_type": "code",
   "execution_count": 7,
   "metadata": {},
   "outputs": [],
   "source": [
    "mylist=os.listdir(path)"
   ]
  },
  {
   "cell_type": "code",
   "execution_count": 8,
   "metadata": {},
   "outputs": [],
   "source": [
    "for cl in mylist:\n",
    "    curentimage=cv.imread(f'{path}/{cl}')\n",
    "    images.append(curentimage)\n",
    "    classNames.append(os.path.splitext(cl)[0])"
   ]
  },
  {
   "cell_type": "code",
   "execution_count": 9,
   "metadata": {},
   "outputs": [],
   "source": [
    "def findencodings(images):\n",
    "    \n",
    "    encodelist=[]\n",
    "    \n",
    "    for img in images:\n",
    "        img=cv.cvtColor(img,cv.COLOR_BGR2RGB)\n",
    "\n",
    "        encode = face_recognition.face_encodings(img)[0]\n",
    "  \n",
    "        encodelist.append(encode)\n",
    "\n",
    "    return encodelist"
   ]
  },
  {
   "cell_type": "code",
   "execution_count": 10,
   "metadata": {},
   "outputs": [],
   "source": [
    "encodelistknownfaces = findencodings(images)"
   ]
  },
  {
   "cell_type": "code",
   "execution_count": 11,
   "metadata": {},
   "outputs": [],
   "source": [
    "cap=cv.VideoCapture(0)"
   ]
  },
  {
   "cell_type": "code",
   "execution_count": 12,
   "metadata": {},
   "outputs": [
    {
     "name": "stdout",
     "output_type": "stream",
     "text": [
      "Kristen Stewart\n",
      "Kristen Stewart\n",
      "Unknown\n",
      "Emma Watson\n",
      "Unknown\n",
      "Emma Watson\n",
      "Unknown\n",
      "Unknown\n",
      "Unknown\n"
     ]
    }
   ],
   "source": [
    "while True:\n",
    "    success,img=cap.read()\n",
    "    imgsmall=cv.resize(img,(0,0),None,0.25,0.25)\n",
    "\n",
    "    faces_in_frame = face_recognition.face_locations(imgsmall)\n",
    "\n",
    "    encoded_faces = face_recognition.face_encodings(imgsmall,faces_in_frame)\n",
    "\n",
    "    for encodeface,faceloc in zip(encoded_faces,faces_in_frame):\n",
    "        matches=face_recognition.compare_faces(encodelistknownfaces,encodeface)\n",
    "        facedistance=face_recognition.face_distance(encodelistknownfaces,encodeface)\n",
    "\n",
    "        matchIndex=np.argmin(facedistance)\n",
    "\n",
    "        y1,x2,y2,x1 = faceloc\n",
    "            \n",
    "        y1, x2,y2,x1 = y1*4,x2*4,y2*4,x1*4\n",
    "        cv.rectangle(img,(x1,y1),(x2,y2),(0,255,0),2)\n",
    "        cv.rectangle(img, (x1,y2-35),(x2,y2), (0,255,0), cv.FILLED)\n",
    "        \n",
    "        if matches[matchIndex]:\n",
    "            name = classNames[matchIndex]\n",
    "            print(name)\n",
    "\n",
    "            cv.putText(img,name, (x1+6,y2-5), cv.FONT_HERSHEY_COMPLEX,1,(255,255,255),2)\n",
    "            \n",
    "        else:\n",
    "            \n",
    "            cv.putText(img,'Unknown', (x1+6,y2-5), cv.FONT_HERSHEY_COMPLEX,1,(255,255,255),2)\n",
    "            print('Unknown')\n",
    "\n",
    "\n",
    "\n",
    "    cv.imshow('webcam', img)\n",
    "    if cv.waitKey(1) & 0xFF == ord('q'):\n",
    "        break"
   ]
  },
  {
   "cell_type": "code",
   "execution_count": null,
   "metadata": {},
   "outputs": [],
   "source": []
  }
 ],
 "metadata": {
  "kernelspec": {
   "display_name": "Python 3.8.13 ('open_cv')",
   "language": "python",
   "name": "python3"
  },
  "language_info": {
   "codemirror_mode": {
    "name": "ipython",
    "version": 3
   },
   "file_extension": ".py",
   "mimetype": "text/x-python",
   "name": "python",
   "nbconvert_exporter": "python",
   "pygments_lexer": "ipython3",
   "version": "3.8.13"
  },
  "orig_nbformat": 4,
  "vscode": {
   "interpreter": {
    "hash": "03e1a6893b088213dbee192e94346f4b68d660a4713a500c5092282d63307f46"
   }
  }
 },
 "nbformat": 4,
 "nbformat_minor": 2
}
