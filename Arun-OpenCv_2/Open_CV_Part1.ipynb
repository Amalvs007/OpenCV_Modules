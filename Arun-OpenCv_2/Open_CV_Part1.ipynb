{
 "cells": [
  {
   "cell_type": "markdown",
   "metadata": {},
   "source": [
    "### Installataion\n",
    "\n",
    "pip install opencv-python"
   ]
  },
  {
   "cell_type": "code",
   "execution_count": 2,
   "metadata": {},
   "outputs": [],
   "source": [
    "import cv2 as cv\n",
    "import numpy as np"
   ]
  },
  {
   "cell_type": "code",
   "execution_count": 3,
   "metadata": {},
   "outputs": [],
   "source": [
    "img = cv.imread(\"Data/Messi.jpg\")"
   ]
  },
  {
   "cell_type": "code",
   "execution_count": 5,
   "metadata": {},
   "outputs": [
    {
     "data": {
      "text/plain": [
       "numpy.ndarray"
      ]
     },
     "execution_count": 5,
     "metadata": {},
     "output_type": "execute_result"
    }
   ],
   "source": [
    "type(img)"
   ]
  },
  {
   "cell_type": "code",
   "execution_count": 11,
   "metadata": {},
   "outputs": [
    {
     "data": {
      "text/plain": [
       "(409, 615, 3)"
      ]
     },
     "execution_count": 11,
     "metadata": {},
     "output_type": "execute_result"
    }
   ],
   "source": [
    "img.shape # Heaight, Width, Layer(Red, Green, Blue)"
   ]
  },
  {
   "cell_type": "code",
   "execution_count": 13,
   "metadata": {},
   "outputs": [],
   "source": [
    "# Show image\n",
    "\n",
    "cv.namedWindow(\"Messi\",cv.WINDOW_AUTOSIZE)    # For setting the window size automatically according to image size \n",
    "cv.imshow(\"Messi\",img)\n",
    "cv.waitKey(0)\n",
    "cv.destroyAllWindows()            # For destroying the window by pressing any key\n"
   ]
  },
  {
   "cell_type": "code",
   "execution_count": 15,
   "metadata": {},
   "outputs": [],
   "source": [
    "# Create gray scale image\n",
    "\n",
    "img_grey = cv.imread(\"Data/Messi.jpg\",cv.IMREAD_GRAYSCALE)"
   ]
  },
  {
   "cell_type": "code",
   "execution_count": 16,
   "metadata": {},
   "outputs": [
    {
     "data": {
      "text/plain": [
       "array([[29, 29, 29, ..., 22, 22, 22],\n",
       "       [28, 28, 29, ..., 22, 22, 22],\n",
       "       [28, 28, 28, ..., 23, 23, 23],\n",
       "       ...,\n",
       "       [25, 25, 26, ..., 33, 33, 33],\n",
       "       [24, 25, 25, ..., 33, 33, 33],\n",
       "       [25, 25, 25, ..., 34, 34, 34]], dtype=uint8)"
      ]
     },
     "execution_count": 16,
     "metadata": {},
     "output_type": "execute_result"
    }
   ],
   "source": [
    "img_grey"
   ]
  },
  {
   "cell_type": "code",
   "execution_count": 17,
   "metadata": {},
   "outputs": [],
   "source": [
    "# Show greay scale image\n",
    "\n",
    "cv.namedWindow(\"Messi\",cv.WINDOW_AUTOSIZE)    \n",
    "cv.imshow(\"Messi\",img_grey)\n",
    "cv.waitKey(0)\n",
    "cv.destroyAllWindows()  "
   ]
  },
  {
   "cell_type": "code",
   "execution_count": null,
   "metadata": {},
   "outputs": [],
   "source": [
    "1. Open CV ---> BGR\n",
    "2. Pillow  ---> RGB"
   ]
  },
  {
   "cell_type": "code",
   "execution_count": 6,
   "metadata": {},
   "outputs": [],
   "source": [
    "blue = img[:,:,0]\n",
    "green = img[:,:,1]\n",
    "red = img[:,:,2]"
   ]
  },
  {
   "cell_type": "code",
   "execution_count": null,
   "metadata": {},
   "outputs": [],
   "source": [
    "# Show blue image\n",
    "\n",
    "cv.namedWindow(\"Messi\",cv.WINDOW_AUTOSIZE)    \n",
    "cv.imshow(\"Messi\", red)\n",
    "cv.waitKey(0)\n",
    "cv.destroyAllWindows()  "
   ]
  },
  {
   "cell_type": "code",
   "execution_count": null,
   "metadata": {},
   "outputs": [],
   "source": []
  }
 ],
 "metadata": {
  "kernelspec": {
   "display_name": "Python 3.8.13 ('open_cv')",
   "language": "python",
   "name": "python3"
  },
  "language_info": {
   "codemirror_mode": {
    "name": "ipython",
    "version": 3
   },
   "file_extension": ".py",
   "mimetype": "text/x-python",
   "name": "python",
   "nbconvert_exporter": "python",
   "pygments_lexer": "ipython3",
   "version": "3.8.13"
  },
  "orig_nbformat": 4,
  "vscode": {
   "interpreter": {
    "hash": "03e1a6893b088213dbee192e94346f4b68d660a4713a500c5092282d63307f46"
   }
  }
 },
 "nbformat": 4,
 "nbformat_minor": 2
}
