{
 "cells": [
  {
   "cell_type": "code",
   "execution_count": 1,
   "metadata": {},
   "outputs": [],
   "source": [
    "#Import Libraries\n",
    "import cv2 as cv\n",
    "import numpy as np\n",
    "import matplotlib.pyplot as plt\n",
    "%matplotlib inline"
   ]
  },
  {
   "cell_type": "markdown",
   "metadata": {},
   "source": [
    "### Using Image"
   ]
  },
  {
   "cell_type": "code",
   "execution_count": 2,
   "metadata": {},
   "outputs": [],
   "source": [
    "# Load the cascade\n",
    "face_cascade = cv.CascadeClassifier('haarcascade_frontalface_default.xml')\n",
    "\n",
    "# read the input image\n",
    "img = cv.imread(\"Data/indian.jpg\")\n",
    "\n",
    "# Convert it into Greyscale\n",
    "gray = cv.cvtColor(img,cv.COLOR_BGR2GRAY)         # For Face Detection, Converting to Greyscale is required.\n"
   ]
  },
  {
   "cell_type": "code",
   "execution_count": 13,
   "metadata": {},
   "outputs": [],
   "source": [
    "# # show image\n",
    "# cv.namedWindow('Team',cv.WINDOW_AUTOSIZE)\n",
    "# cv.imshow('Team',gray)\n",
    "# cv.waitKey(0)\n",
    "# cv.destroyAllWindows()"
   ]
  },
  {
   "cell_type": "code",
   "execution_count": 12,
   "metadata": {},
   "outputs": [],
   "source": [
    "# Detect faces\n",
    "\n",
    "faces = face_cascade.detectMultiScale(gray,1.1,4)\n",
    "\n",
    "# 1.1 ---> Scaling factor, means scale down\n",
    "# 4 ---> Detection size, looks nearest neighbour and gives importance"
   ]
  },
  {
   "cell_type": "code",
   "execution_count": 14,
   "metadata": {},
   "outputs": [],
   "source": [
    "img = cv.imread(\"data/indian.jpg\")\n",
    "\n",
    "for (x,y,w,h) in faces:\n",
    "    cv.rectangle(img,(x,y),(x+w,y+h),(0,0,255),1)\n",
    "\n",
    "# Diaplay the image\n",
    "cv.namedWindow('Team',cv.WINDOW_AUTOSIZE)\n",
    "cv.imshow('Team',img)\n",
    "cv.waitKey(0)\n",
    "cv.destroyAllWindows()"
   ]
  },
  {
   "cell_type": "markdown",
   "metadata": {},
   "source": [
    "# Using Video"
   ]
  },
  {
   "cell_type": "code",
   "execution_count": 2,
   "metadata": {},
   "outputs": [
    {
     "ename": "",
     "evalue": "",
     "output_type": "error",
     "traceback": [
      "The Kernel crashed while executing code in the the current cell or a previous cell. Please review the code in the cell(s) to identify a possible cause of the failure. Click <a href='https://aka.ms/vscodeJupyterKernelCrash'>here</a> for more info. View Jupyter <a href='command:jupyter.viewOutput'>log</a> for further details."
     ]
    }
   ],
   "source": [
    "# Load the cascade\n",
    "face_cascade = cv.CascadeClassifier('haarcascade_frontalface_default.xml')\n",
    "\n",
    "# To capture video from webcam\n",
    "cap = cv.VideoCapture(0)\n",
    "# To use a video as input\n",
    "#cap = cv.VideoCapture('filename.mp4')\n",
    "\n",
    "while True:\n",
    "    # read the frame\n",
    "    _, img = cap.read()\n",
    "\n",
    "    # Convert it into Greyscale\n",
    "    gray = cv.cvtColor(img,cv.COLOR_BGR2GRAY)\n",
    "\n",
    "    # Detect faces\n",
    "    faces = face_cascade.detectMultiScale(gray,1.1,4)\n",
    "\n",
    "    for (x,y,w,h) in faces:\n",
    "        cv.rectangle(img,(x,y),(x+w,y+h),(0,0,255),2)\n",
    "\n",
    "    # Diaplay the image\n",
    "    cv.imshow('img',img)\n",
    "    \n",
    "    # stop if escape key is pressed\n",
    "    k = cv.waitKey(30) &  0xff \n",
    "    if k==27:\n",
    "        break\n",
    "\n",
    "# Release the video capture\n",
    "cap.release()\n",
    "\n",
    "\n",
    "    "
   ]
  },
  {
   "cell_type": "code",
   "execution_count": null,
   "metadata": {},
   "outputs": [],
   "source": []
  }
 ],
 "metadata": {
  "kernelspec": {
   "display_name": "Python 3.8.13 ('open_cv')",
   "language": "python",
   "name": "python3"
  },
  "language_info": {
   "codemirror_mode": {
    "name": "ipython",
    "version": 3
   },
   "file_extension": ".py",
   "mimetype": "text/x-python",
   "name": "python",
   "nbconvert_exporter": "python",
   "pygments_lexer": "ipython3",
   "version": "3.8.13"
  },
  "orig_nbformat": 4,
  "vscode": {
   "interpreter": {
    "hash": "03e1a6893b088213dbee192e94346f4b68d660a4713a500c5092282d63307f46"
   }
  }
 },
 "nbformat": 4,
 "nbformat_minor": 2
}
